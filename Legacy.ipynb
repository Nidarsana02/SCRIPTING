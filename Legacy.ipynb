{
 "cells": [
  {
   "cell_type": "code",
   "execution_count": 6,
   "metadata": {},
   "outputs": [
    {
     "name": "stdout",
     "output_type": "stream",
     "text": [
      "Defaulting to user installation because normal site-packages is not writeable\n",
      "Requirement already satisfied: python-bitcoinrpc in c:\\users\\hp\\appdata\\roaming\\python\\python312\\site-packages (1.0)\n",
      "Note: you may need to restart the kernel to use updated packages.\n"
     ]
    }
   ],
   "source": [
    "pip install python-bitcoinrpc"
   ]
  },
  {
   "cell_type": "code",
   "execution_count": 7,
   "id": "05de7e05",
   "metadata": {},
   "outputs": [
    {
     "name": "stdout",
     "output_type": "stream",
     "text": [
      "✅ Wallet 'CS216' is already loaded.\n",
      "Address A: mfzekGpAapypBJwj7ePKvntKKdx81qBgzW\n",
      "Address B: mvW3y8oqnN4EhTsvxQvGYi1LXUKVBEBMNZ\n",
      "Address C: mqoMjr9QUTiaUKXgm2q115fTPq5SnXNrSy\n"
     ]
    }
   ],
   "source": [
    "from bitcoinrpc.authproxy import AuthServiceProxy, JSONRPCException\n",
    "\n",
    "# Replace these with your actual RPC credentials from bitcoin.conf\n",
    "rpc_user = \"nidarsana02\"\n",
    "rpc_password = \"hjsHjZR1OIAft7Y-lYScC9F94PR54eAvp0vGPurIY1w\"\n",
    "rpc_host = \"127.0.0.1\"\n",
    "rpc_port = 18443\n",
    "\n",
    "# Create an RPC connection\n",
    "rpc_client = AuthServiceProxy(f\"http://{rpc_user}:{rpc_password}@{rpc_host}:{rpc_port}\", timeout=120)\n",
    "\n",
    "# Function to ensure wallet is loaded or created\n",
    "def ensure_wallet_loaded(wallet_name):\n",
    "    try:\n",
    "        # Check if wallet is already loaded\n",
    "        loaded_wallets = rpc_client.listwallets()\n",
    "        if wallet_name in loaded_wallets:\n",
    "            print(f\"✅ Wallet '{wallet_name}' is already loaded.\")\n",
    "            return\n",
    "\n",
    "        # Try loading the wallet\n",
    "        print(f\"🔄 Attempting to load wallet '{wallet_name}'...\")\n",
    "        rpc_client.loadwallet(wallet_name)\n",
    "        print(f\"✅ Wallet '{wallet_name}' loaded successfully.\")\n",
    "\n",
    "    except JSONRPCException as e:\n",
    "        if e.error.get(\"code\") == -18:  # Wallet does not exist\n",
    "            print(f\"⚠️ Wallet '{wallet_name}' does not exist. Creating it...\")\n",
    "            rpc_client.createwallet(wallet_name)\n",
    "            print(f\"✅ Wallet '{wallet_name}' created and loaded successfully.\")\n",
    "        else:\n",
    "            print(f\"❌ Unexpected error: {e}\")\n",
    "            raise\n",
    "\n",
    "# Ensure the wallet is loaded or created\n",
    "wallet_name = \"CS216\"\n",
    "ensure_wallet_loaded(wallet_name)\n",
    "\n",
    "# Reconnect to the wallet after ensuring it is loaded\n",
    "rpc_client = AuthServiceProxy(f\"http://{rpc_user}:{rpc_password}@{rpc_host}:{rpc_port}/wallet/{wallet_name}\")\n",
    "\n",
    "# Generate legacy addresses\n",
    "address_A = rpc_client.getnewaddress(\"A\", \"legacy\")\n",
    "address_B = rpc_client.getnewaddress(\"B\", \"legacy\")\n",
    "address_C = rpc_client.getnewaddress(\"C\", \"legacy\")\n",
    "\n",
    "print(\"Address A:\", address_A)\n",
    "print(\"Address B:\", address_B)\n",
    "print(\"Address C:\", address_C)\n"
   ]
  },
  {
   "cell_type": "code",
   "execution_count": 8,
   "metadata": {},
   "outputs": [
    {
     "data": {
      "text/plain": [
       "'e4aa9c5e454b9ede9a0dcafbafd02a5c68c6997d6e2d32498b7cb474ef006a25'"
      ]
     },
     "execution_count": 8,
     "metadata": {},
     "output_type": "execute_result"
    }
   ],
   "source": [
    "# Fund address A\n",
    "rpc_client.sendtoaddress(address_A, 0.01)\n"
   ]
  },
  {
   "cell_type": "code",
   "execution_count": 9,
   "metadata": {},
   "outputs": [
    {
     "name": "stdout",
     "output_type": "stream",
     "text": [
      "{'txid': 'c5fe4abe021a9bcc842c7230666fe86eaab4f029e90881200a3cf23536aa40f7', 'hash': 'c5fe4abe021a9bcc842c7230666fe86eaab4f029e90881200a3cf23536aa40f7', 'version': 2, 'size': 85, 'vsize': 85, 'weight': 340, 'locktime': 0, 'vin': [{'txid': 'e4aa9c5e454b9ede9a0dcafbafd02a5c68c6997d6e2d32498b7cb474ef006a25', 'vout': 1, 'scriptSig': {'asm': '', 'hex': ''}, 'sequence': 4294967293}], 'vout': [{'value': Decimal('0.00990000'), 'n': 0, 'scriptPubKey': {'asm': 'OP_DUP OP_HASH160 a45e3501d3b88500f96b646666d9eb927c81a3a6 OP_EQUALVERIFY OP_CHECKSIG', 'desc': 'addr(mvW3y8oqnN4EhTsvxQvGYi1LXUKVBEBMNZ)#u93mtl8q', 'hex': '76a914a45e3501d3b88500f96b646666d9eb927c81a3a688ac', 'address': 'mvW3y8oqnN4EhTsvxQvGYi1LXUKVBEBMNZ', 'type': 'pubkeyhash'}}]}\n",
      "\n",
      "Signed Transaction from A to B:\n",
      "{'txid': 'fbb76e569367839be149d17d465800ca550893a114eb67ba29f05ccb4e9c0d0a', 'hash': 'fbb76e569367839be149d17d465800ca550893a114eb67ba29f05ccb4e9c0d0a', 'version': 2, 'size': 191, 'vsize': 191, 'weight': 764, 'locktime': 0, 'vin': [{'txid': 'e4aa9c5e454b9ede9a0dcafbafd02a5c68c6997d6e2d32498b7cb474ef006a25', 'vout': 1, 'scriptSig': {'asm': '304402201aab7f8d93702b98f5492b1796365adf6c01206dde6ef5b83048beab8a08f336022047a5c28d758f39f76d7222efa738057ffd20722fe454425f912e07cfcf0b2d73[ALL] 031af8f8403b0b962a63c2f5aec055374d265f1d270559dbb9d30d6cbc3a1b9793', 'hex': '47304402201aab7f8d93702b98f5492b1796365adf6c01206dde6ef5b83048beab8a08f336022047a5c28d758f39f76d7222efa738057ffd20722fe454425f912e07cfcf0b2d730121031af8f8403b0b962a63c2f5aec055374d265f1d270559dbb9d30d6cbc3a1b9793'}, 'sequence': 4294967293}], 'vout': [{'value': Decimal('0.00990000'), 'n': 0, 'scriptPubKey': {'asm': 'OP_DUP OP_HASH160 a45e3501d3b88500f96b646666d9eb927c81a3a6 OP_EQUALVERIFY OP_CHECKSIG', 'desc': 'addr(mvW3y8oqnN4EhTsvxQvGYi1LXUKVBEBMNZ)#u93mtl8q', 'hex': '76a914a45e3501d3b88500f96b646666d9eb927c81a3a688ac', 'address': 'mvW3y8oqnN4EhTsvxQvGYi1LXUKVBEBMNZ', 'type': 'pubkeyhash'}}]}\n",
      "✅ Transaction is valid and will be accepted by the mempool.\n",
      "Transaction ID from A to B: fbb76e569367839be149d17d465800ca550893a114eb67ba29f05ccb4e9c0d0a\n"
     ]
    }
   ],
   "source": [
    "from decimal import Decimal\n",
    "\n",
    "# Get the unspent outputs for address A\n",
    "unspent_outputs = rpc_client.listunspent(0, 9999999, [address_A])\n",
    "\n",
    "# Select the first unspent output\n",
    "utxo = unspent_outputs[0]\n",
    "\n",
    "# Create a raw transaction\n",
    "raw_tx = rpc_client.createrawtransaction(\n",
    "    [{\"txid\": utxo[\"txid\"], \"vout\": utxo[\"vout\"]}],\n",
    "    {address_B: utxo[\"amount\"] - Decimal(\"0.0001\")}\n",
    ")\n",
    "\n",
    "# Decode the raw transaction\n",
    "decoded_raw_tx = rpc_client.decoderawtransaction(raw_tx)\n",
    "print(decoded_raw_tx)\n",
    "\n",
    "# Sign the transaction using the wallet\n",
    "signed_tx = rpc_client.signrawtransactionwithwallet(raw_tx)\n",
    "\n",
    "# Decode the signed transaction\n",
    "decoded_signed_tx = rpc_client.decoderawtransaction(signed_tx['hex'])\n",
    "print(\"\\nSigned Transaction from A to B:\")\n",
    "print(decoded_signed_tx)\n",
    "signed_tx_hex = signed_tx['hex']\n",
    "\n",
    "# Test mempool acceptance\n",
    "test_result = rpc_client.testmempoolaccept([signed_tx_hex])\n",
    "\n",
    "# Check if transaction is valid\n",
    "if test_result[0]['allowed']:\n",
    "    print(\"✅ Transaction is valid and will be accepted by the mempool.\")\n",
    "else:\n",
    "    print(f\"❌ Transaction is invalid. Reason: {test_result[0]['reject-reason']}\")\n",
    "\n",
    "# Broadcast the transaction\n",
    "txid_A_to_B = rpc_client.sendrawtransaction(signed_tx['hex'])\n",
    "print(\"Transaction ID from A to B:\", txid_A_to_B)\n"
   ]
  },
  {
   "cell_type": "code",
   "execution_count": 10,
   "metadata": {},
   "outputs": [
    {
     "name": "stdout",
     "output_type": "stream",
     "text": [
      "Decoded Raw Transaction from B to C: {'txid': '889e6cc1c2c613541d0b6016111f419f786a3ad2f50b6321d5142a535cb6a34d', 'hash': '889e6cc1c2c613541d0b6016111f419f786a3ad2f50b6321d5142a535cb6a34d', 'version': 2, 'size': 85, 'vsize': 85, 'weight': 340, 'locktime': 0, 'vin': [{'txid': 'fbb76e569367839be149d17d465800ca550893a114eb67ba29f05ccb4e9c0d0a', 'vout': 0, 'scriptSig': {'asm': '', 'hex': ''}, 'sequence': 4294967293}], 'vout': [{'value': Decimal('0.00980000'), 'n': 0, 'scriptPubKey': {'asm': 'OP_DUP OP_HASH160 70cb7be0c23190582abe9b0a0aa66c6b3b98d606 OP_EQUALVERIFY OP_CHECKSIG', 'desc': 'addr(mqoMjr9QUTiaUKXgm2q115fTPq5SnXNrSy)#vqzn0jza', 'hex': '76a91470cb7be0c23190582abe9b0a0aa66c6b3b98d60688ac', 'address': 'mqoMjr9QUTiaUKXgm2q115fTPq5SnXNrSy', 'type': 'pubkeyhash'}}]}\n",
      "\n",
      "Signed Transaction from B to C:\n",
      "{'txid': 'be65bf8a4b602c8ed08da9666c7829a1b6bea56a3c891b9e279c4bc4fee5b016', 'hash': 'be65bf8a4b602c8ed08da9666c7829a1b6bea56a3c891b9e279c4bc4fee5b016', 'version': 2, 'size': 191, 'vsize': 191, 'weight': 764, 'locktime': 0, 'vin': [{'txid': 'fbb76e569367839be149d17d465800ca550893a114eb67ba29f05ccb4e9c0d0a', 'vout': 0, 'scriptSig': {'asm': '3044022033def11e74c9c5932600a5f15f2fadf4af4694a9c49443a7c78bf9654a4dd07702203c1e05c93e5cfe5feeb7ac91a3e9e8a336b00fbfff1e82c94fff84f19c69b453[ALL] 02c92028db39adad4268be940f0efe0feb509df4333ac7cf745c2fdb97e21e2d3e', 'hex': '473044022033def11e74c9c5932600a5f15f2fadf4af4694a9c49443a7c78bf9654a4dd07702203c1e05c93e5cfe5feeb7ac91a3e9e8a336b00fbfff1e82c94fff84f19c69b453012102c92028db39adad4268be940f0efe0feb509df4333ac7cf745c2fdb97e21e2d3e'}, 'sequence': 4294967293}], 'vout': [{'value': Decimal('0.00980000'), 'n': 0, 'scriptPubKey': {'asm': 'OP_DUP OP_HASH160 70cb7be0c23190582abe9b0a0aa66c6b3b98d606 OP_EQUALVERIFY OP_CHECKSIG', 'desc': 'addr(mqoMjr9QUTiaUKXgm2q115fTPq5SnXNrSy)#vqzn0jza', 'hex': '76a91470cb7be0c23190582abe9b0a0aa66c6b3b98d60688ac', 'address': 'mqoMjr9QUTiaUKXgm2q115fTPq5SnXNrSy', 'type': 'pubkeyhash'}}]}\n",
      "\n",
      "🔍 Comparing Scripts:\n",
      "scriptSig_asm_B (B unlocking A's UTXO): 3044022033def11e74c9c5932600a5f15f2fadf4af4694a9c49443a7c78bf9654a4dd07702203c1e05c93e5cfe5feeb7ac91a3e9e8a336b00fbfff1e82c94fff84f19c69b453[ALL] 02c92028db39adad4268be940f0efe0feb509df4333ac7cf745c2fdb97e21e2d3e\n",
      "scriptPubKey_hex_A (Locking script from A → B): 76a914a45e3501d3b88500f96b646666d9eb927c81a3a688ac\n"
     ]
    }
   ],
   "source": [
    "# Get the unspent outputs for address B\n",
    "unspent_outputs_B = rpc_client.listunspent(0, 9999999, [address_B])\n",
    "\n",
    "# Ensure there are UTXOs available\n",
    "if not unspent_outputs_B:\n",
    "    raise ValueError(\"No UTXOs available for address B!\")\n",
    "\n",
    "# Select the first unspent output (UTXO from A → B)\n",
    "utxo_B = unspent_outputs_B[0]\n",
    "txid_A_to_B = utxo_B[\"txid\"]\n",
    "\n",
    "# Retrieve the transaction A → B to extract scriptPubKey\n",
    "tx_A_to_B = rpc_client.getrawtransaction(txid_A_to_B, True)\n",
    "scriptPubKey_hex_A = tx_A_to_B[\"vout\"][utxo_B[\"vout\"]][\"scriptPubKey\"][\"hex\"]\n",
    "\n",
    "# Create a raw transaction from B to C\n",
    "fee = Decimal(\"0.0001\")\n",
    "raw_tx_B = rpc_client.createrawtransaction(\n",
    "    [{\"txid\": utxo_B[\"txid\"], \"vout\": utxo_B[\"vout\"]}],\n",
    "    {address_C: utxo_B[\"amount\"] - fee}\n",
    ")\n",
    "\n",
    "# Decode the raw transaction\n",
    "decoded_raw_tx_B = rpc_client.decoderawtransaction(raw_tx_B)\n",
    "print(\"Decoded Raw Transaction from B to C:\", decoded_raw_tx_B)\n",
    "\n",
    "# Sign the transaction using the wallet\n",
    "signed_tx_B = rpc_client.signrawtransactionwithwallet(raw_tx_B)\n",
    "\n",
    "# Decode the signed transaction\n",
    "decoded_signed_tx_B = rpc_client.decoderawtransaction(signed_tx_B['hex'])\n",
    "print(\"\\nSigned Transaction from B to C:\")\n",
    "print(decoded_signed_tx_B)\n",
    "\n",
    "# Extract scriptSig from B → C (unlocking A's UTXO)\n",
    "scriptSig_asm_B = decoded_signed_tx_B['vin'][0].get('scriptSig', {}).get('asm', \"Missing ScriptSig\")\n",
    "\n",
    "print(\"\\n🔍 Comparing Scripts:\")\n",
    "print(f\"scriptSig_asm_B (B unlocking A's UTXO): {scriptSig_asm_B}\")\n",
    "print(f\"scriptPubKey_hex_A (Locking script from A → B): {scriptPubKey_hex_A}\")\n",
    "\n"
   ]
  }
 ],
 "metadata": {
  "kernelspec": {
   "display_name": "Python 3",
   "language": "python",
   "name": "python3"
  },
  "language_info": {
   "codemirror_mode": {
    "name": "ipython",
    "version": 3
   },
   "file_extension": ".py",
   "mimetype": "text/x-python",
   "name": "python",
   "nbconvert_exporter": "python",
   "pygments_lexer": "ipython3",
   "version": "3.12.6"
  }
 },
 "nbformat": 4,
 "nbformat_minor": 2
}
