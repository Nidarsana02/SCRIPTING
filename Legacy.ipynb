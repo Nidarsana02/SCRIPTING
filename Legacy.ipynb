{
 "cells": [
  {
   "cell_type": "code",
   "execution_count": 104,
   "metadata": {},
   "outputs": [
    {
     "name": "stdout",
     "output_type": "stream",
     "text": [
      "Requirement already satisfied: python-bitcoinrpc in c:\\users\\nandi\\appdata\\local\\programs\\python\\python312\\lib\\site-packages (1.0)\n",
      "Note: you may need to restart the kernel to use updated packages.\n"
     ]
    },
    {
     "name": "stderr",
     "output_type": "stream",
     "text": [
      "\n",
      "[notice] A new release of pip is available: 24.0 -> 25.0.1\n",
      "[notice] To update, run: python.exe -m pip install --upgrade pip\n"
     ]
    }
   ],
   "source": [
    "pip install python-bitcoinrpc"
   ]
  },
  {
   "cell_type": "code",
   "execution_count": 105,
   "id": "05de7e05",
   "metadata": {},
   "outputs": [
    {
     "name": "stdout",
     "output_type": "stream",
     "text": [
      "✅ Wallet 'testwallet' is already loaded.\n",
      "Address A: ms8e88ziKS2pJ7L5EsMg5F2kKp7tZ58d1W\n",
      "Address B: mvq6usiYJHo5pwgL9ktyfDLGzJtJ7LMTYm\n",
      "Address C: miKmdSwXDgeoHMoxa5SaPr4cGyqtxerThD\n"
     ]
    }
   ],
   "source": [
    "from bitcoinrpc.authproxy import AuthServiceProxy, JSONRPCException\n",
    "\n",
    "# Replace these with your actual RPC credentials from bitcoin.conf\n",
    "rpc_user = \"dini\"\n",
    "rpc_password = \"qKbD4TBjrwlZGlECoakKp95IrpE5d0RTRZD0I4mTLMo\"\n",
    "rpc_host = \"127.0.0.1\"\n",
    "rpc_port = 18443\n",
    "\n",
    "# Create an RPC connection\n",
    "rpc_client = AuthServiceProxy(f\"http://{rpc_user}:{rpc_password}@{rpc_host}:{rpc_port}\", timeout=120)\n",
    "\n",
    "# Function to ensure wallet is loaded or created\n",
    "def ensure_wallet_loaded(wallet_name):\n",
    "    try:\n",
    "        # Check if wallet is already loaded\n",
    "        loaded_wallets = rpc_client.listwallets()\n",
    "        if wallet_name in loaded_wallets:\n",
    "            print(f\"✅ Wallet '{wallet_name}' is already loaded.\")\n",
    "            return\n",
    "\n",
    "        # Try loading the wallet\n",
    "        print(f\"🔄 Attempting to load wallet '{wallet_name}'...\")\n",
    "        rpc_client.loadwallet(wallet_name)\n",
    "        print(f\"✅ Wallet '{wallet_name}' loaded successfully.\")\n",
    "\n",
    "    except JSONRPCException as e:\n",
    "        if e.error.get(\"code\") == -18:  # Wallet does not exist\n",
    "            print(f\"⚠️ Wallet '{wallet_name}' does not exist. Creating it...\")\n",
    "            rpc_client.createwallet(wallet_name)\n",
    "            print(f\"✅ Wallet '{wallet_name}' created and loaded successfully.\")\n",
    "        else:\n",
    "            print(f\"❌ Unexpected error: {e}\")\n",
    "            raise\n",
    "\n",
    "# Ensure the wallet is loaded or created\n",
    "wallet_name = \"testwallet\"\n",
    "ensure_wallet_loaded(wallet_name)\n",
    "\n",
    "# Reconnect to the wallet after ensuring it is loaded\n",
    "rpc_client = AuthServiceProxy(f\"http://{rpc_user}:{rpc_password}@{rpc_host}:{rpc_port}/wallet/{wallet_name}\")\n",
    "\n",
    "# Generate legacy addresses\n",
    "address_A = rpc_client.getnewaddress(\"A\", \"legacy\")\n",
    "address_B = rpc_client.getnewaddress(\"B\", \"legacy\")\n",
    "address_C = rpc_client.getnewaddress(\"C\", \"legacy\")\n",
    "\n",
    "print(\"Address A:\", address_A)\n",
    "print(\"Address B:\", address_B)\n",
    "print(\"Address C:\", address_C)\n"
   ]
  },
  {
   "cell_type": "code",
   "execution_count": 106,
   "metadata": {},
   "outputs": [
    {
     "data": {
      "text/plain": [
       "'55ecada0936d01baccaea26ff46f72c03543e7f3225e9a26f4a2d9a3e22589f2'"
      ]
     },
     "execution_count": 106,
     "metadata": {},
     "output_type": "execute_result"
    }
   ],
   "source": [
    "# Fund address A\n",
    "rpc_client.sendtoaddress(address_A, 0.01)\n"
   ]
  },
  {
   "cell_type": "code",
   "execution_count": 107,
   "metadata": {},
   "outputs": [
    {
     "name": "stdout",
     "output_type": "stream",
     "text": [
      "{'txid': '9de70a22326daf502981fb512a4f9ec2ad78fd111dc9f21657dfd49591faa39c', 'hash': '9de70a22326daf502981fb512a4f9ec2ad78fd111dc9f21657dfd49591faa39c', 'version': 2, 'size': 85, 'vsize': 85, 'weight': 340, 'locktime': 0, 'vin': [{'txid': '55ecada0936d01baccaea26ff46f72c03543e7f3225e9a26f4a2d9a3e22589f2', 'vout': 0, 'scriptSig': {'asm': '', 'hex': ''}, 'sequence': 4294967293}], 'vout': [{'value': Decimal('0.00990000'), 'n': 0, 'scriptPubKey': {'asm': 'OP_DUP OP_HASH160 a7f89153ce4c266634808442b766c0b74147e13e OP_EQUALVERIFY OP_CHECKSIG', 'desc': 'addr(mvq6usiYJHo5pwgL9ktyfDLGzJtJ7LMTYm)#pn7zrk86', 'hex': '76a914a7f89153ce4c266634808442b766c0b74147e13e88ac', 'address': 'mvq6usiYJHo5pwgL9ktyfDLGzJtJ7LMTYm', 'type': 'pubkeyhash'}}]}\n",
      "\n",
      "Signed Transaction from A to B:\n",
      "{'txid': '5fa68d7c34f0fc22871e675e8ba9072117b6485c2b50eee699cae4624255c6d9', 'hash': '5fa68d7c34f0fc22871e675e8ba9072117b6485c2b50eee699cae4624255c6d9', 'version': 2, 'size': 191, 'vsize': 191, 'weight': 764, 'locktime': 0, 'vin': [{'txid': '55ecada0936d01baccaea26ff46f72c03543e7f3225e9a26f4a2d9a3e22589f2', 'vout': 0, 'scriptSig': {'asm': '30440220240c7fc04cc323628df99bbc5dbfcb86480ca94184cdab91b025d41f4b25963502203200ec3f6a08f312850eb70d78da9f087b38de034d37c9a82ad22048d6ac9018[ALL] 03d9a613fd2556002107029defe379539f77e825d870009c12565331b3ac89fa8e', 'hex': '4730440220240c7fc04cc323628df99bbc5dbfcb86480ca94184cdab91b025d41f4b25963502203200ec3f6a08f312850eb70d78da9f087b38de034d37c9a82ad22048d6ac9018012103d9a613fd2556002107029defe379539f77e825d870009c12565331b3ac89fa8e'}, 'sequence': 4294967293}], 'vout': [{'value': Decimal('0.00990000'), 'n': 0, 'scriptPubKey': {'asm': 'OP_DUP OP_HASH160 a7f89153ce4c266634808442b766c0b74147e13e OP_EQUALVERIFY OP_CHECKSIG', 'desc': 'addr(mvq6usiYJHo5pwgL9ktyfDLGzJtJ7LMTYm)#pn7zrk86', 'hex': '76a914a7f89153ce4c266634808442b766c0b74147e13e88ac', 'address': 'mvq6usiYJHo5pwgL9ktyfDLGzJtJ7LMTYm', 'type': 'pubkeyhash'}}]}\n",
      "✅ Transaction is valid and will be accepted by the mempool.\n",
      "Transaction ID from A to B: 5fa68d7c34f0fc22871e675e8ba9072117b6485c2b50eee699cae4624255c6d9\n"
     ]
    }
   ],
   "source": [
    "from decimal import Decimal\n",
    "\n",
    "# Get the unspent outputs for address A\n",
    "unspent_outputs = rpc_client.listunspent(0, 9999999, [address_A])\n",
    "\n",
    "# Select the first unspent output\n",
    "utxo = unspent_outputs[0]\n",
    "\n",
    "# Create a raw transaction\n",
    "raw_tx = rpc_client.createrawtransaction(\n",
    "    [{\"txid\": utxo[\"txid\"], \"vout\": utxo[\"vout\"]}],\n",
    "    {address_B: utxo[\"amount\"] - Decimal(\"0.0001\")}\n",
    ")\n",
    "\n",
    "# Decode the raw transaction\n",
    "decoded_raw_tx = rpc_client.decoderawtransaction(raw_tx)\n",
    "print(decoded_raw_tx)\n",
    "\n",
    "# Sign the transaction using the wallet\n",
    "signed_tx = rpc_client.signrawtransactionwithwallet(raw_tx)\n",
    "\n",
    "# Decode the signed transaction\n",
    "decoded_signed_tx = rpc_client.decoderawtransaction(signed_tx['hex'])\n",
    "print(\"\\nSigned Transaction from A to B:\")\n",
    "print(decoded_signed_tx)\n",
    "signed_tx_hex = signed_tx['hex']\n",
    "\n",
    "# Test mempool acceptance\n",
    "test_result = rpc_client.testmempoolaccept([signed_tx_hex])\n",
    "\n",
    "# Check if transaction is valid\n",
    "if test_result[0]['allowed']:\n",
    "    print(\"✅ Transaction is valid and will be accepted by the mempool.\")\n",
    "else:\n",
    "    print(f\"❌ Transaction is invalid. Reason: {test_result[0]['reject-reason']}\")\n",
    "\n",
    "# Broadcast the transaction\n",
    "txid_A_to_B = rpc_client.sendrawtransaction(signed_tx['hex'])\n",
    "print(\"Transaction ID from A to B:\", txid_A_to_B)\n"
   ]
  },
  {
   "cell_type": "code",
   "execution_count": 108,
   "metadata": {},
   "outputs": [
    {
     "name": "stdout",
     "output_type": "stream",
     "text": [
      "Decoded Raw Transaction from B to C: {'txid': '2952f7010abc57d17ff0359d928dcb3998d6ac71312dbe4d074854ba372d6990', 'hash': '2952f7010abc57d17ff0359d928dcb3998d6ac71312dbe4d074854ba372d6990', 'version': 2, 'size': 85, 'vsize': 85, 'weight': 340, 'locktime': 0, 'vin': [{'txid': '5fa68d7c34f0fc22871e675e8ba9072117b6485c2b50eee699cae4624255c6d9', 'vout': 0, 'scriptSig': {'asm': '', 'hex': ''}, 'sequence': 4294967293}], 'vout': [{'value': Decimal('0.00980000'), 'n': 0, 'scriptPubKey': {'asm': 'OP_DUP OP_HASH160 1ecae6080de6340eab07e7eac61b25e22b272885 OP_EQUALVERIFY OP_CHECKSIG', 'desc': 'addr(miKmdSwXDgeoHMoxa5SaPr4cGyqtxerThD)#3m26aq38', 'hex': '76a9141ecae6080de6340eab07e7eac61b25e22b27288588ac', 'address': 'miKmdSwXDgeoHMoxa5SaPr4cGyqtxerThD', 'type': 'pubkeyhash'}}]}\n",
      "\n",
      "Signed Transaction from B to C:\n",
      "{'txid': '6c7a2900581674b371637581a8d274f0369bdde5e12ff90c9ad1c0ad0158b1f2', 'hash': '6c7a2900581674b371637581a8d274f0369bdde5e12ff90c9ad1c0ad0158b1f2', 'version': 2, 'size': 191, 'vsize': 191, 'weight': 764, 'locktime': 0, 'vin': [{'txid': '5fa68d7c34f0fc22871e675e8ba9072117b6485c2b50eee699cae4624255c6d9', 'vout': 0, 'scriptSig': {'asm': '304402207e4c9bdfffff8c9c6dd8057852dd9c09d3f741d8d46ec7e1861509c3ea3467e002200769bd391b61b031cb08efe1ee74deada3dc134b72138f7552154324ff013ebc[ALL] 02ce02b8e1626e3de26ef2a08811ffbe2d304c0f6980e4413700a477987cc12869', 'hex': '47304402207e4c9bdfffff8c9c6dd8057852dd9c09d3f741d8d46ec7e1861509c3ea3467e002200769bd391b61b031cb08efe1ee74deada3dc134b72138f7552154324ff013ebc012102ce02b8e1626e3de26ef2a08811ffbe2d304c0f6980e4413700a477987cc12869'}, 'sequence': 4294967293}], 'vout': [{'value': Decimal('0.00980000'), 'n': 0, 'scriptPubKey': {'asm': 'OP_DUP OP_HASH160 1ecae6080de6340eab07e7eac61b25e22b272885 OP_EQUALVERIFY OP_CHECKSIG', 'desc': 'addr(miKmdSwXDgeoHMoxa5SaPr4cGyqtxerThD)#3m26aq38', 'hex': '76a9141ecae6080de6340eab07e7eac61b25e22b27288588ac', 'address': 'miKmdSwXDgeoHMoxa5SaPr4cGyqtxerThD', 'type': 'pubkeyhash'}}]}\n",
      "\n",
      "🔍 Comparing Scripts:\n",
      "scriptSig_asm_B (B unlocking A's UTXO): 304402207e4c9bdfffff8c9c6dd8057852dd9c09d3f741d8d46ec7e1861509c3ea3467e002200769bd391b61b031cb08efe1ee74deada3dc134b72138f7552154324ff013ebc[ALL] 02ce02b8e1626e3de26ef2a08811ffbe2d304c0f6980e4413700a477987cc12869\n",
      "scriptPubKey_hex_A (Locking script from A → B): 76a914a7f89153ce4c266634808442b766c0b74147e13e88ac\n"
     ]
    }
   ],
   "source": [
    "# Get the unspent outputs for address B\n",
    "unspent_outputs_B = rpc_client.listunspent(0, 9999999, [address_B])\n",
    "\n",
    "# Ensure there are UTXOs available\n",
    "if not unspent_outputs_B:\n",
    "    raise ValueError(\"No UTXOs available for address B!\")\n",
    "\n",
    "# Select the first unspent output (UTXO from A → B)\n",
    "utxo_B = unspent_outputs_B[0]\n",
    "txid_A_to_B = utxo_B[\"txid\"]\n",
    "\n",
    "# Retrieve the transaction A → B to extract scriptPubKey\n",
    "tx_A_to_B = rpc_client.getrawtransaction(txid_A_to_B, True)\n",
    "scriptPubKey_hex_A = tx_A_to_B[\"vout\"][utxo_B[\"vout\"]][\"scriptPubKey\"][\"hex\"]\n",
    "\n",
    "# Create a raw transaction from B to C\n",
    "fee = Decimal(\"0.0001\")\n",
    "raw_tx_B = rpc_client.createrawtransaction(\n",
    "    [{\"txid\": utxo_B[\"txid\"], \"vout\": utxo_B[\"vout\"]}],\n",
    "    {address_C: utxo_B[\"amount\"] - fee}\n",
    ")\n",
    "\n",
    "# Decode the raw transaction\n",
    "decoded_raw_tx_B = rpc_client.decoderawtransaction(raw_tx_B)\n",
    "print(\"Decoded Raw Transaction from B to C:\", decoded_raw_tx_B)\n",
    "\n",
    "# Sign the transaction using the wallet\n",
    "signed_tx_B = rpc_client.signrawtransactionwithwallet(raw_tx_B)\n",
    "\n",
    "# Decode the signed transaction\n",
    "decoded_signed_tx_B = rpc_client.decoderawtransaction(signed_tx_B['hex'])\n",
    "print(\"\\nSigned Transaction from B to C:\")\n",
    "print(decoded_signed_tx_B)\n",
    "\n",
    "# Extract scriptSig from B → C (unlocking A's UTXO)\n",
    "scriptSig_asm_B = decoded_signed_tx_B['vin'][0].get('scriptSig', {}).get('asm', \"Missing ScriptSig\")\n",
    "\n",
    "print(\"\\n🔍 Comparing Scripts:\")\n",
    "print(f\"scriptSig_asm_B (B unlocking A's UTXO): {scriptSig_asm_B}\")\n",
    "print(f\"scriptPubKey_hex_A (Locking script from A → B): {scriptPubKey_hex_A}\")\n",
    "\n"
   ]
  }
 ],
 "metadata": {
  "kernelspec": {
   "display_name": "Python 3",
   "language": "python",
   "name": "python3"
  },
  "language_info": {
   "codemirror_mode": {
    "name": "ipython",
    "version": 3
   },
   "file_extension": ".py",
   "mimetype": "text/x-python",
   "name": "python",
   "nbconvert_exporter": "python",
   "pygments_lexer": "ipython3",
   "version": "3.12.4"
  }
 },
 "nbformat": 4,
 "nbformat_minor": 2
}
