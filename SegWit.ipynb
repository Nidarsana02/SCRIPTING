{
 "cells": [
  {
   "cell_type": "code",
   "execution_count": 3,
   "metadata": {},
   "outputs": [],
   "source": [
    "from bitcoinrpc.authproxy import AuthServiceProxy, JSONRPCException\n",
    "from decimal import Decimal\n",
    "import hashlib\n",
    "\n",
    "# RPC Configuration\n",
    "rpc_user = \"nidarsana02\"\n",
    "rpc_password = \"hjsHjZR1OIAft7Y-lYScC9F94PR54eAvp0vGPurIY1w\"\n",
    "rpc_host = \"127.0.0.1\"\n",
    "rpc_port = 18443\n",
    "wallet_name = \"CS216\""
   ]
  },
  {
   "cell_type": "code",
   "execution_count": 4,
   "metadata": {},
   "outputs": [
    {
     "name": "stdout",
     "output_type": "stream",
     "text": [
      "Loading wallet 'CS216'...\n",
      "Address A: 2MwyA72EFMaCzMi5dxqZ9iXe17jJ2aqpeE3\n",
      "Address B: 2MvBEkaAn63PxQvdGEZ6gjBACGbyiMad1hJ\n",
      "Address C: 2N2ZM6xhy4aWdxxiwsdXboLvP656WhPab4r\n"
     ]
    }
   ],
   "source": [
    "# Connect to Bitcoin RPC\n",
    "rpc_client = AuthServiceProxy(f\"http://{rpc_user}:{rpc_password}@{rpc_host}:{rpc_port}/wallet/{wallet_name}\")\n",
    "\n",
    "# Ensure wallet is loaded\n",
    "def ensure_wallet_loaded(wallet_name):\n",
    "    try:\n",
    "        loaded_wallets = rpc_client.listwallets()\n",
    "        if wallet_name in loaded_wallets:\n",
    "            print(f\"Wallet '{wallet_name}' is already loaded.\")\n",
    "            return\n",
    "        print(f\"Loading wallet '{wallet_name}'...\")\n",
    "        rpc_client.loadwallet(wallet_name)\n",
    "    except JSONRPCException as e:\n",
    "        if e.error.get(\"code\") == -18:  # Wallet does not exist\n",
    "            print(f\"Wallet '{wallet_name}' not found. Creating...\")\n",
    "            rpc_client.createwallet(wallet_name)\n",
    "        else:\n",
    "            raise\n",
    "\n",
    "ensure_wallet_loaded(wallet_name)\n",
    "\n",
    "# Generate P2SH-SegWit Addresses\n",
    "address_A = rpc_client.getnewaddress(\"A'\", \"p2sh-segwit\")\n",
    "address_B = rpc_client.getnewaddress(\"B'\", \"p2sh-segwit\")\n",
    "address_C = rpc_client.getnewaddress(\"C'\", \"p2sh-segwit\")\n",
    "\n",
    "print(f\"Address A: {address_A}\")\n",
    "print(f\"Address B: {address_B}\")\n",
    "print(f\"Address C: {address_C}\")"
   ]
  },
  {
   "cell_type": "code",
   "execution_count": 5,
   "metadata": {},
   "outputs": [],
   "source": [
    "# Fund Address A\n",
    "rpc_client.sendtoaddress(address_A, 0.01)\n",
    "rpc_client.generatetoaddress(1, address_A)  # Confirm transaction by mining 1 block\n",
    "\n",
    "# Get UTXO for Address A\n",
    "unspent_outputs = rpc_client.listunspent(0, 9999999, [address_A])\n",
    "if not unspent_outputs:\n",
    "    raise ValueError(\"No UTXOs found for Address A.\")\n",
    "\n",
    "utxo = unspent_outputs[0]\n",
    "amount = Decimal(str(utxo[\"amount\"]))\n",
    "\n",
    "# Create Transaction A -> B\n",
    "raw_tx = rpc_client.createrawtransaction(\n",
    "    [{\"txid\": utxo[\"txid\"], \"vout\": utxo[\"vout\"]}],\n",
    "    {address_B: amount - Decimal(\"0.0001\")}\n",
    ")"
   ]
  },
  {
   "cell_type": "code",
   "execution_count": 6,
   "metadata": {},
   "outputs": [
    {
     "name": "stdout",
     "output_type": "stream",
     "text": [
      "Decoded Transaction A -> B: {'txid': '41c56c295ecb22b44d54a4814b4ab27ba59cd2bd914e81e75a45661cb1ebb2b4', 'hash': '329199a72a9e57e0128aa6e6bac4d2e39c6aee8f677e4f2080342c86f17974f0', 'version': 2, 'size': 215, 'vsize': 134, 'weight': 533, 'locktime': 0, 'vin': [{'txid': '94aa25274a78627373065aff8d6ff658b86e084b42cb4fccfe9f52d162c4311d', 'vout': 1, 'scriptSig': {'asm': '0014f026da7aa717456cbca8b5edd0028b9cfb588228', 'hex': '160014f026da7aa717456cbca8b5edd0028b9cfb588228'}, 'txinwitness': ['3044022031236247f6d608c845733539fb696f19b95e8532f30872e81c14ae0ed46594b702201f24471a940d545d5d90910d782b08e65754d9e6c8e29885d9ef32748592f4b801', '0272222cc2603ddf3b562f3b09c37e5a88538f117cf2f23bc36599fe110730d2ea'], 'sequence': 4294967293}], 'vout': [{'value': Decimal('0.00990000'), 'n': 0, 'scriptPubKey': {'asm': 'OP_HASH160 202759d62f1e37e5519f9c6f39996272b285785d OP_EQUAL', 'desc': 'addr(2MvBEkaAn63PxQvdGEZ6gjBACGbyiMad1hJ)#d9qgjund', 'hex': 'a914202759d62f1e37e5519f9c6f39996272b285785d87', 'address': '2MvBEkaAn63PxQvdGEZ6gjBACGbyiMad1hJ', 'type': 'scripthash'}}]}\n",
      "Transaction ID A -> B: 41c56c295ecb22b44d54a4814b4ab27ba59cd2bd914e81e75a45661cb1ebb2b4\n"
     ]
    }
   ],
   "source": [
    "signed_tx = rpc_client.signrawtransactionwithwallet(raw_tx)\n",
    "decoded_tx = rpc_client.decoderawtransaction(signed_tx[\"hex\"])\n",
    "print(\"Decoded Transaction A -> B:\", decoded_tx)\n",
    "txid = rpc_client.sendrawtransaction(signed_tx[\"hex\"])\n",
    "print(\"Transaction ID A -> B:\", txid)\n",
    "\n",
    "# Get UTXO for Address B\n",
    "unspent_outputs_B = rpc_client.listunspent(0, 9999999, [address_B])\n",
    "if not unspent_outputs_B:\n",
    "    raise ValueError(\"No UTXOs found for Address B.\")\n",
    "\n",
    "utxo_B = unspent_outputs_B[0]\n",
    "amount_B = Decimal(str(utxo_B[\"amount\"]))"
   ]
  },
  {
   "cell_type": "code",
   "execution_count": 7,
   "metadata": {},
   "outputs": [
    {
     "name": "stdout",
     "output_type": "stream",
     "text": [
      "Decoded Transaction B -> C: {'txid': 'e134d6afa9978ea8441eb4ef61da28ec57ea8fce74578aa851515f909221cae0', 'hash': '6ddc5285aaaa12e4d3875cb6b9887fc413572c1ec4c1a1b2a922fc6de5e655a1', 'version': 2, 'size': 215, 'vsize': 134, 'weight': 533, 'locktime': 0, 'vin': [{'txid': '41c56c295ecb22b44d54a4814b4ab27ba59cd2bd914e81e75a45661cb1ebb2b4', 'vout': 0, 'scriptSig': {'asm': '0014e1e20a916ad6f335e671141445b65e4823b65d80', 'hex': '160014e1e20a916ad6f335e671141445b65e4823b65d80'}, 'txinwitness': ['304402204f04d7c889881f8c28bc23c434472378668d38b08b77a3b788cedeba2f8952dc02204f9ee472fd6576bde2b8007967e2df02acbb9a4fa25135c3499a50ca4270b6df01', '03f49337aab57a5489962fd97d7436bd7b60b6c73a8065f364e36cb3f1f02fb878'], 'sequence': 4294967293}], 'vout': [{'value': Decimal('0.00980000'), 'n': 0, 'scriptPubKey': {'asm': 'OP_HASH160 66268f0bd74e527ffbc2834dbfb973020d7cfaa7 OP_EQUAL', 'desc': 'addr(2N2ZM6xhy4aWdxxiwsdXboLvP656WhPab4r)#lsd0q8hz', 'hex': 'a91466268f0bd74e527ffbc2834dbfb973020d7cfaa787', 'address': '2N2ZM6xhy4aWdxxiwsdXboLvP656WhPab4r', 'type': 'scripthash'}}]}\n",
      "Transaction ID B -> C: e134d6afa9978ea8441eb4ef61da28ec57ea8fce74578aa851515f909221cae0\n"
     ]
    }
   ],
   "source": [
    "# Create Transaction B -> C\n",
    "raw_tx_B = rpc_client.createrawtransaction(\n",
    "    [{\"txid\": utxo_B[\"txid\"], \"vout\": utxo_B[\"vout\"]}],\n",
    "    {address_C: amount_B - Decimal(\"0.0001\")}\n",
    ")\n",
    "\n",
    "signed_tx_B = rpc_client.signrawtransactionwithwallet(raw_tx_B)\n",
    "decoded_tx_B = rpc_client.decoderawtransaction(signed_tx_B[\"hex\"])\n",
    "print(\"Decoded Transaction B -> C:\", decoded_tx_B)\n",
    "txid_B = rpc_client.sendrawtransaction(signed_tx_B[\"hex\"])\n",
    "print(\"Transaction ID B -> C:\", txid_B)"
   ]
  },
  {
   "cell_type": "code",
   "execution_count": 8,
   "metadata": {},
   "outputs": [
    {
     "name": "stdout",
     "output_type": "stream",
     "text": [
      "✅ Hash matches! Transaction is valid.\n",
      "Public Key: 03f49337aab57a5489962fd97d7436bd7b60b6c73a8065f364e36cb3f1f02fb878\n",
      "Computed Redeem Script Hash: 202759d62f1e37e5519f9c6f39996272b285785d\n",
      "Expected Redeem Script Hash: 202759d62f1e37e5519f9c6f39996272b285785d\n"
     ]
    }
   ],
   "source": [
    "# Extract Public Key from Transaction B (txinwitness[1])\n",
    "public_key = decoded_tx_B[\"vin\"][0][\"txinwitness\"][1]  # Second witness (Public Key)\n",
    "\n",
    "# Compute HASH160(pubKey)\n",
    "pubkey_hash = hashlib.new(\"ripemd160\", hashlib.sha256(bytes.fromhex(public_key)).digest()).hexdigest()\n",
    "\n",
    "# Create redeem script for P2SH-P2WPKH (0014 + pubkey_hash)\n",
    "redeem_script = \"0014\" + pubkey_hash  # Ensure correct formatting\n",
    "\n",
    "# Compute HASH160(redeem_script)\n",
    "redeem_script_hash = hashlib.new(\"ripemd160\", hashlib.sha256(bytes.fromhex(redeem_script)).digest()).hexdigest()\n",
    "\n",
    "# Extract Expected Redeem Script Hash from scriptPubKey\n",
    "expected_redeem_script_hash = decoded_tx[\"vout\"][0][\"scriptPubKey\"][\"asm\"].split(\" \")[1]  # Extract the hash from OP_HASH160\n",
    "\n",
    "# Check if the computed hash matches the expected hash\n",
    "if redeem_script_hash == expected_redeem_script_hash:\n",
    "    print(\"✅ Hash matches! Transaction is valid.\")\n",
    "else:\n",
    "    print(\"❌ Hash mismatch! Check public key and script format.\")\n",
    "\n",
    "# Debugging Info\n",
    "print(f\"Public Key: {public_key}\")\n",
    "print(f\"Computed Redeem Script Hash: {redeem_script_hash}\")\n",
    "print(f\"Expected Redeem Script Hash: {expected_redeem_script_hash}\")\n"
   ]
  }
 ],
 "metadata": {
  "kernelspec": {
   "display_name": "Python 3",
   "language": "python",
   "name": "python3"
  },
  "language_info": {
   "codemirror_mode": {
    "name": "ipython",
    "version": 3
   },
   "file_extension": ".py",
   "mimetype": "text/x-python",
   "name": "python",
   "nbconvert_exporter": "python",
   "pygments_lexer": "ipython3",
   "version": "3.12.6"
  }
 },
 "nbformat": 4,
 "nbformat_minor": 2
}
